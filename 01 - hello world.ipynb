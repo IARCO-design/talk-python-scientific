{
 "metadata": {
  "name": ""
 },
 "nbformat": 3,
 "nbformat_minor": 0,
 "worksheets": [
  {
   "cells": [
    {
     "cell_type": "markdown",
     "metadata": {},
     "source": [
      "# Hello World"
     ]
    },
    {
     "cell_type": "code",
     "collapsed": false,
     "input": [
      "print('Hello world!')"
     ],
     "language": "python",
     "metadata": {},
     "outputs": []
    },
    {
     "cell_type": "code",
     "collapsed": false,
     "input": [
      "a = 42                           # integer\n",
      "b = 42 / 21 + 10                 # = 12\n",
      "my_list = [1, 3, 'Hello World!'] # list: all types permitted!\n",
      "print(my_list[0])                # 0-based indexing"
     ],
     "language": "python",
     "metadata": {},
     "outputs": []
    },
    {
     "cell_type": "code",
     "collapsed": false,
     "input": [
      "for i in range(4):               # i in 0,...,3\n",
      "    print(i)"
     ],
     "language": "python",
     "metadata": {},
     "outputs": []
    },
    {
     "cell_type": "code",
     "collapsed": false,
     "input": [
      "for elem in my_list:\n",
      "    print(elem)"
     ],
     "language": "python",
     "metadata": {},
     "outputs": []
    },
    {
     "cell_type": "code",
     "collapsed": false,
     "input": [
      "d = { 'Hallo': 'hello',       # dictionary (\"map\")\n",
      "      'Welt': 'world',\n",
      "      42: 'fourty-two'}\n",
      "print(d['Hallo'])             # -> hello"
     ],
     "language": "python",
     "metadata": {},
     "outputs": []
    },
    {
     "cell_type": "code",
     "collapsed": false,
     "input": [
      "tuple = (4,3,1)\n",
      "if tuple == (4,):             # easy to compare!\n",
      "    print('yeah')"
     ],
     "language": "python",
     "metadata": {},
     "outputs": []
    },
    {
     "cell_type": "markdown",
     "metadata": {},
     "source": [
      "# $\\LaTeX{}$\n",
      "\n",
      "Look, Ma: $\\LaTeX{}$ in my IPython notebook!\n",
      "\n",
      "\\\\[\n",
      "  a(u,v)=\\\\int_\\\\Omega \\\\nabla u \\cdot \\\\nabla v~dx\n",
      "\\\\]\n",
      "\n",
      "Nice for documenting your code, ideas and research!\n",
      "\n",
      "# Inline plots\n",
      "Run IPython as *`ipython notebook --pylab inline`* to use this."
     ]
    },
    {
     "cell_type": "code",
     "collapsed": false,
     "input": [
      "squares = [i**2 for i in range(20)]\n",
      "plot(squares); show()"
     ],
     "language": "python",
     "metadata": {},
     "outputs": [
      {
       "metadata": {},
       "output_type": "display_data",
       "png": "[encoded data removed]",
       "text": [
        "<matplotlib.figure.Figure at 0x3df0350>"
       ]
      }
     ],
     "prompt_number": 2
    }
   ],
   "metadata": {}
  }
 ]
}